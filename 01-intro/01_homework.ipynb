{
 "cells": [
  {
   "cell_type": "code",
   "execution_count": 2,
   "metadata": {},
   "outputs": [],
   "source": [
    "import pandas as pd\n",
    "import pickle\n",
    "import seaborn as sns\n",
    "import matplotlib.pyplot as plt\n",
    "from sklearn.feature_extraction import DictVectorizer\n",
    "from sklearn.linear_model import LinearRegression\n",
    "from sklearn.linear_model import Lasso\n",
    "from sklearn.linear_model import Ridge\n",
    "from sklearn.metrics import mean_squared_error"
   ]
  },
  {
   "cell_type": "code",
   "execution_count": 3,
   "metadata": {},
   "outputs": [
    {
     "data": {
      "text/plain": [
       "19"
      ]
     },
     "execution_count": 3,
     "metadata": {},
     "output_type": "execute_result"
    }
   ],
   "source": [
    "# Exercise 1\n",
    "df = pd.read_parquet('./data/yellow_tripdata_2023-01.parquet')\n",
    "df.shape[1]"
   ]
  },
  {
   "cell_type": "code",
   "execution_count": 4,
   "metadata": {},
   "outputs": [
    {
     "data": {
      "text/plain": [
       "42.594351241920904"
      ]
     },
     "execution_count": 4,
     "metadata": {},
     "output_type": "execute_result"
    }
   ],
   "source": [
    "# Exercise 2\n",
    "df['duration'] = df.tpep_dropoff_datetime - df.tpep_pickup_datetime\n",
    "df.duration = df.duration.apply(lambda td: td.total_seconds() / 60)\n",
    "df['duration'].std()"
   ]
  },
  {
   "cell_type": "code",
   "execution_count": 5,
   "metadata": {},
   "outputs": [
    {
     "data": {
      "text/plain": [
       "0.9812202822125979"
      ]
     },
     "execution_count": 5,
     "metadata": {},
     "output_type": "execute_result"
    }
   ],
   "source": [
    "# Exercise 3\n",
    "filtered_df = df[(df.duration >= 1) & (df.duration <= 60)]\n",
    "# Calculate the fraction of records remaining after filtering\n",
    "num_records_after_filtering = len(filtered_df)\n",
    "total_records = len(df)\n",
    "\n",
    "num_records_after_filtering / total_records\n"
   ]
  },
  {
   "cell_type": "code",
   "execution_count": 9,
   "metadata": {},
   "outputs": [
    {
     "name": "stderr",
     "output_type": "stream",
     "text": [
      "/tmp/ipykernel_851762/3436271620.py:3: SettingWithCopyWarning: \n",
      "A value is trying to be set on a copy of a slice from a DataFrame.\n",
      "Try using .loc[row_indexer,col_indexer] = value instead\n",
      "\n",
      "See the caveats in the documentation: https://pandas.pydata.org/pandas-docs/stable/user_guide/indexing.html#returning-a-view-versus-a-copy\n",
      "  filtered_df[categorical] = filtered_df[categorical].astype(str)\n"
     ]
    },
    {
     "data": {
      "text/plain": [
       "515"
      ]
     },
     "execution_count": 9,
     "metadata": {},
     "output_type": "execute_result"
    }
   ],
   "source": [
    "# Exercise 4\n",
    "categorical = ['PULocationID', 'DOLocationID']\n",
    "filtered_df[categorical] = filtered_df[categorical].astype(str)\n",
    "\n",
    "# Convert DataFrame to a list of dictionaries\n",
    "dicts = filtered_df[categorical].to_dict(orient='records')\n",
    "\n",
    "# Initialize DictVectorizer\n",
    "dv = DictVectorizer()\n",
    "\n",
    "# Fit and transform the data using DictVectorizer\n",
    "X = dv.fit_transform(dicts)\n",
    "\n",
    "# Get the dimensionality (number of columns) of the feature matrix\n",
    "X.shape[1]"
   ]
  },
  {
   "cell_type": "code",
   "execution_count": 10,
   "metadata": {},
   "outputs": [
    {
     "data": {
      "text/plain": [
       "7.649261958701973"
      ]
     },
     "execution_count": 10,
     "metadata": {},
     "output_type": "execute_result"
    }
   ],
   "source": [
    "# Exercise 5\n",
    "target = 'duration'\n",
    "y = filtered_df[target].values\n",
    "\n",
    "lr = LinearRegression()\n",
    "lr.fit(X, y)\n",
    "\n",
    "y_pred = lr.predict(X)\n",
    "\n",
    "mean_squared_error(y, y_pred, squared=False)"
   ]
  },
  {
   "cell_type": "code",
   "execution_count": 11,
   "metadata": {},
   "outputs": [
    {
     "data": {
      "text/plain": [
       "7.811816864052284"
      ]
     },
     "execution_count": 11,
     "metadata": {},
     "output_type": "execute_result"
    }
   ],
   "source": [
    "# Exercise 6\n",
    "# Data preprocessing\n",
    "df_val = pd.read_parquet('./data/yellow_tripdata_2023-02.parquet')\n",
    "df_val['duration'] = df_val.tpep_dropoff_datetime - df_val.tpep_pickup_datetime\n",
    "df_val.duration = df_val.duration.apply(lambda td: td.total_seconds() / 60)\n",
    "df_val = df_val[(df_val.duration >= 1) & (df_val.duration <= 60)]\n",
    "# Dict\n",
    "df_val[categorical] = df_val[categorical].astype(str)\n",
    "dicts_val = df_val[categorical].to_dict(orient='records')\n",
    "# Fit and transform the data using DictVectorizer\n",
    "X_val = dv.transform(dicts_val)\n",
    "# Construct y and predict\n",
    "target = 'duration'\n",
    "y_val = df_val[target].values\n",
    "y_val_pred = lr.predict(X_val)\n",
    "mean_squared_error(y_val, y_val_pred, squared=False)"
   ]
  }
 ],
 "metadata": {
  "interpreter": {
   "hash": "747489886f25ed53eafe3a5ea5af097ad1442e62548951c9387ed57297d6d855"
  },
  "kernelspec": {
   "display_name": "Python 3.11.7 ('base': conda)",
   "language": "python",
   "name": "python3"
  },
  "language_info": {
   "codemirror_mode": {
    "name": "ipython",
    "version": 3
   },
   "file_extension": ".py",
   "mimetype": "text/x-python",
   "name": "python",
   "nbconvert_exporter": "python",
   "pygments_lexer": "ipython3",
   "version": "3.11.7"
  },
  "orig_nbformat": 4
 },
 "nbformat": 4,
 "nbformat_minor": 2
}
