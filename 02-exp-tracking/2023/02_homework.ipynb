{
 "cells": [
  {
   "cell_type": "code",
   "execution_count": null,
   "metadata": {},
   "outputs": [],
   "source": [
    "!conda activate 02-exp-2023"
   ]
  },
  {
   "cell_type": "markdown",
   "metadata": {},
   "source": [
    "#### Q1. Install the package\n",
    "\n",
    "To get started with MLflow you'll need to install the appropriate Python package.\n",
    "\n",
    "For this we recommend creating a separate Python environment, for example, you can use [conda environments](https://docs.conda.io/projects/conda/en/latest/user-guide/getting-started.html#managing-envs), \n",
    "and then install the package there with `pip` or `conda`.\n",
    "\n",
    "Once you installed the package, run the command `mlflow --version` and check the output.\n",
    "\n",
    "What's the version that you have?"
   ]
  },
  {
   "cell_type": "code",
   "execution_count": 2,
   "metadata": {},
   "outputs": [
    {
     "name": "stdout",
     "output_type": "stream",
     "text": [
      "mlflow, version 2.12.2\n"
     ]
    }
   ],
   "source": [
    "!mlflow --version"
   ]
  },
  {
   "cell_type": "markdown",
   "metadata": {},
   "source": [
    "#### Q2. Download and preprocess the data\n",
    "\n",
    "We'll use the Green Taxi Trip Records dataset to predict the amount of tips for each trip. \n",
    "\n",
    "Download the data for January, February and March 2022 in parquet format from [here](https://www1.nyc.gov/site/tlc/about/tlc-trip-record-data.page).\n",
    "\n",
    "Use the script `preprocess_data.py` located in the folder [`homework`](homework) to preprocess the data.\n",
    "\n",
    "The script will:\n",
    "\n",
    "* load the data from the folder `<TAXI_DATA_FOLDER>` (the folder where you have downloaded the data),\n",
    "* fit a `DictVectorizer` on the training set (January 2022 data),\n",
    "* save the preprocessed datasets and the `DictVectorizer` to disk.\n",
    "\n",
    "Your task is to download the datasets and then execute this command:\n",
    "\n",
    "```\n",
    "python preprocess_data.py --raw_data_path <TAXI_DATA_FOLDER> --dest_path ./output\n",
    "```\n",
    "\n",
    "Tip: go to `02-experiment-tracking/homework/` folder before executing the command and change the value of `<TAXI_DATA_FOLDER>` to the location where you saved the data.\n",
    "\n",
    "So what's the size of the saved `DictVectorizer` file?\n",
    "\n",
    "* 54 kB\n",
    "* 154 kB\n",
    "* 54 MB\n",
    "* 154 MB"
   ]
  },
  {
   "cell_type": "code",
   "execution_count": 8,
   "metadata": {},
   "outputs": [
    {
     "name": "stdout",
     "output_type": "stream",
     "text": [
      "152K\t./output/dv.pkl\n"
     ]
    }
   ],
   "source": [
    "!python preprocess_data.py --raw_data_path ./data --dest_path ./output\n",
    "!du -h ./output/dv.pkl"
   ]
  },
  {
   "cell_type": "markdown",
   "metadata": {},
   "source": [
    "#### Q3. Train a model with autolog\n",
    "\n",
    "We will train a `RandomForestRegressor` (from Scikit-Learn) on the taxi dataset.\n",
    "\n",
    "We have prepared the training script `train.py` for this exercise, which can be also found in the folder `homework`. \n",
    "\n",
    "The script will:\n",
    "\n",
    "* load the datasets produced by the previous step,\n",
    "* train the model on the training set,\n",
    "* calculate the RMSE score on the validation set.\n",
    "\n",
    "Your task is to modify the script to enable **autologging** with MLflow, execute the script and then launch the MLflow UI to check that the experiment run was properly tracked. \n",
    "\n",
    "Tip 1: don't forget to wrap the training code with a `with mlflow.start_run():` statement as we showed in the videos.\n",
    "\n",
    "Tip 2: don't modify the hyperparameters of the model to make sure that the training will finish quickly.\n",
    "\n",
    "What is the value of the `max_depth` parameter:\n",
    "\n",
    "* 4\n",
    "* 6\n",
    "* 8\n",
    "* 10"
   ]
  },
  {
   "cell_type": "code",
   "execution_count": 18,
   "metadata": {},
   "outputs": [
    {
     "name": "stdout",
     "output_type": "stream",
     "text": [
      "2024/05/16 14:21:24 WARNING mlflow.sklearn: Failed to log training dataset information to MLflow Tracking. Reason: 'numpy.ndarray' object has no attribute 'toarray'\n",
      "/home/pxmopsadmin/anaconda3/envs/02-exp-2023/lib/python3.12/site-packages/sklearn/metrics/_regression.py:483: FutureWarning: 'squared' is deprecated in version 1.4 and will be removed in 1.6. To calculate the root mean squared error, use the function'root_mean_squared_error'.\n",
      "  warnings.warn(\n"
     ]
    }
   ],
   "source": [
    "# 1. Start mlflow over terminal: `mlflow ui --backend-store-uri sqlite:///mlflow.db`\n",
    "# 2. Add `import mlflow`\n",
    "# 3. Add `mlflow.sklearn.autolog()`\n",
    "# 4. Add `with mlflow.start_run():`\n",
    "# 5. Add    `import mlflow`\n",
    "#           `mlflow.set_tracking_uri(\"sqlite:///mlflow.db\")`\n",
    "#           `mlflow.set_experiment(\"nyc-taxi-experiment\")`\n",
    "\n",
    "!python train.py\n",
    "\n",
    "# 6. Look at experiment in mlflow UI (http://localhost:5000), identify parameter `max_depth     10`\n"
   ]
  },
  {
   "cell_type": "markdown",
   "metadata": {},
   "source": [
    "#### Launch the tracking server locally for MLflow\n",
    "\n",
    "Now we want to manage the entire lifecycle of our ML model. In this step, you'll need to launch a tracking server. This way we will also have access to the model registry. \n",
    "\n",
    "In case of MLflow, you need to:\n",
    "\n",
    "* launch the tracking server on your local machine,\n",
    "* select a SQLite db for the backend store and a folder called `artifacts` for the artifacts store.\n",
    "\n",
    "You should keep the tracking server running to work on the next three exercises that use the server."
   ]
  },
  {
   "cell_type": "code",
   "execution_count": null,
   "metadata": {},
   "outputs": [],
   "source": [
    "# MLflow setup:\n",
    "# - tracking server: yes, local server\n",
    "# - backend store: sqlite database\n",
    "# - artifacts store: local filesystem\n",
    "\n",
    "# The experiments can be explored locally by accessing the local tracking server.\n",
    "\n",
    "# To run this example you need to launch the mlflow server locally by running the following command in your terminal:\n",
    "# `mlflow server --backend-store-uri sqlite:///mlflow.db --default-artifact-root ./artifacts`"
   ]
  },
  {
   "cell_type": "markdown",
   "metadata": {},
   "source": [
    "#### Q4. Tune model hyperparameters\n",
    "\n",
    "Now let's try to reduce the validation error by tuning the hyperparameters of the `RandomForestRegressor` using `optuna`. \n",
    "We have prepared the script `hpo.py` for this exercise. \n",
    "\n",
    "Your task is to modify the script `hpo.py` and make sure that the validation RMSE is logged to the tracking server for each run of the hyperparameter optimization (you will need to add a few lines of code to the `objective` function) and run the script without passing any parameters.\n",
    "\n",
    "After that, open UI and explore the runs from the experiment called `random-forest-hyperopt` to answer the question below.\n",
    "\n",
    "Note: Don't use autologging for this exercise.\n",
    "\n",
    "The idea is to just log the information that you need to answer the question below, including:\n",
    "\n",
    "* the list of hyperparameters that are passed to the `objective` function during the optimization,\n",
    "* the RMSE obtained on the validation set (February 2022 data).\n",
    "\n",
    "What's the best validation RMSE that you got?\n",
    "\n",
    "* 1.85\n",
    "* 2.15\n",
    "* 2.45\n",
    "* 2.85"
   ]
  },
  {
   "cell_type": "code",
   "execution_count": 44,
   "metadata": {},
   "outputs": [
    {
     "name": "stdout",
     "output_type": "stream",
     "text": [
      "\u001b[32m[I 2024-05-16 16:23:47,337]\u001b[0m A new study created in memory with name: no-name-f78a8fb2-32fa-4764-9b86-a9d3b45451f6\u001b[0m\n",
      "/home/pxmopsadmin/2024_mlops_homework/02-exp-tracking/2023/hpo.py:40: FutureWarning: suggest_int() got {'step'} as positional arguments but they were expected to be given as keyword arguments.\n",
      "  'n_estimators': trial.suggest_int('n_estimators', 10, 50, 1),\n",
      "/home/pxmopsadmin/2024_mlops_homework/02-exp-tracking/2023/hpo.py:41: FutureWarning: suggest_int() got {'step'} as positional arguments but they were expected to be given as keyword arguments.\n",
      "  'max_depth': trial.suggest_int('max_depth', 1, 20, 1),\n",
      "/home/pxmopsadmin/2024_mlops_homework/02-exp-tracking/2023/hpo.py:42: FutureWarning: suggest_int() got {'step'} as positional arguments but they were expected to be given as keyword arguments.\n",
      "  'min_samples_split': trial.suggest_int('min_samples_split', 2, 10, 1),\n",
      "/home/pxmopsadmin/2024_mlops_homework/02-exp-tracking/2023/hpo.py:43: FutureWarning: suggest_int() got {'step'} as positional arguments but they were expected to be given as keyword arguments.\n",
      "  'min_samples_leaf': trial.suggest_int('min_samples_leaf', 1, 4, 1),\n",
      "/home/pxmopsadmin/anaconda3/envs/02-exp-2023/lib/python3.12/site-packages/sklearn/metrics/_regression.py:483: FutureWarning: 'squared' is deprecated in version 1.4 and will be removed in 1.6. To calculate the root mean squared error, use the function'root_mean_squared_error'.\n",
      "  warnings.warn(\n",
      "\u001b[32m[I 2024-05-16 16:23:48,667]\u001b[0m Trial 0 finished with value: 2.451379690825458 and parameters: {'n_estimators': 25, 'max_depth': 20, 'min_samples_split': 8, 'min_samples_leaf': 3}. Best is trial 0 with value: 2.451379690825458.\u001b[0m\n",
      "/home/pxmopsadmin/2024_mlops_homework/02-exp-tracking/2023/hpo.py:40: FutureWarning: suggest_int() got {'step'} as positional arguments but they were expected to be given as keyword arguments.\n",
      "  'n_estimators': trial.suggest_int('n_estimators', 10, 50, 1),\n",
      "/home/pxmopsadmin/2024_mlops_homework/02-exp-tracking/2023/hpo.py:41: FutureWarning: suggest_int() got {'step'} as positional arguments but they were expected to be given as keyword arguments.\n",
      "  'max_depth': trial.suggest_int('max_depth', 1, 20, 1),\n",
      "/home/pxmopsadmin/2024_mlops_homework/02-exp-tracking/2023/hpo.py:42: FutureWarning: suggest_int() got {'step'} as positional arguments but they were expected to be given as keyword arguments.\n",
      "  'min_samples_split': trial.suggest_int('min_samples_split', 2, 10, 1),\n",
      "/home/pxmopsadmin/2024_mlops_homework/02-exp-tracking/2023/hpo.py:43: FutureWarning: suggest_int() got {'step'} as positional arguments but they were expected to be given as keyword arguments.\n",
      "  'min_samples_leaf': trial.suggest_int('min_samples_leaf', 1, 4, 1),\n",
      "/home/pxmopsadmin/anaconda3/envs/02-exp-2023/lib/python3.12/site-packages/sklearn/metrics/_regression.py:483: FutureWarning: 'squared' is deprecated in version 1.4 and will be removed in 1.6. To calculate the root mean squared error, use the function'root_mean_squared_error'.\n",
      "  warnings.warn(\n",
      "\u001b[32m[I 2024-05-16 16:23:48,870]\u001b[0m Trial 1 finished with value: 2.4667366020368333 and parameters: {'n_estimators': 16, 'max_depth': 4, 'min_samples_split': 2, 'min_samples_leaf': 4}. Best is trial 0 with value: 2.451379690825458.\u001b[0m\n",
      "/home/pxmopsadmin/2024_mlops_homework/02-exp-tracking/2023/hpo.py:40: FutureWarning: suggest_int() got {'step'} as positional arguments but they were expected to be given as keyword arguments.\n",
      "  'n_estimators': trial.suggest_int('n_estimators', 10, 50, 1),\n",
      "/home/pxmopsadmin/2024_mlops_homework/02-exp-tracking/2023/hpo.py:41: FutureWarning: suggest_int() got {'step'} as positional arguments but they were expected to be given as keyword arguments.\n",
      "  'max_depth': trial.suggest_int('max_depth', 1, 20, 1),\n",
      "/home/pxmopsadmin/2024_mlops_homework/02-exp-tracking/2023/hpo.py:42: FutureWarning: suggest_int() got {'step'} as positional arguments but they were expected to be given as keyword arguments.\n",
      "  'min_samples_split': trial.suggest_int('min_samples_split', 2, 10, 1),\n",
      "/home/pxmopsadmin/2024_mlops_homework/02-exp-tracking/2023/hpo.py:43: FutureWarning: suggest_int() got {'step'} as positional arguments but they were expected to be given as keyword arguments.\n",
      "  'min_samples_leaf': trial.suggest_int('min_samples_leaf', 1, 4, 1),\n",
      "/home/pxmopsadmin/anaconda3/envs/02-exp-2023/lib/python3.12/site-packages/sklearn/metrics/_regression.py:483: FutureWarning: 'squared' is deprecated in version 1.4 and will be removed in 1.6. To calculate the root mean squared error, use the function'root_mean_squared_error'.\n",
      "  warnings.warn(\n",
      "\u001b[32m[I 2024-05-16 16:23:49,805]\u001b[0m Trial 2 finished with value: 2.449827329704216 and parameters: {'n_estimators': 34, 'max_depth': 15, 'min_samples_split': 2, 'min_samples_leaf': 4}. Best is trial 2 with value: 2.449827329704216.\u001b[0m\n",
      "/home/pxmopsadmin/2024_mlops_homework/02-exp-tracking/2023/hpo.py:40: FutureWarning: suggest_int() got {'step'} as positional arguments but they were expected to be given as keyword arguments.\n",
      "  'n_estimators': trial.suggest_int('n_estimators', 10, 50, 1),\n",
      "/home/pxmopsadmin/2024_mlops_homework/02-exp-tracking/2023/hpo.py:41: FutureWarning: suggest_int() got {'step'} as positional arguments but they were expected to be given as keyword arguments.\n",
      "  'max_depth': trial.suggest_int('max_depth', 1, 20, 1),\n",
      "/home/pxmopsadmin/2024_mlops_homework/02-exp-tracking/2023/hpo.py:42: FutureWarning: suggest_int() got {'step'} as positional arguments but they were expected to be given as keyword arguments.\n",
      "  'min_samples_split': trial.suggest_int('min_samples_split', 2, 10, 1),\n",
      "/home/pxmopsadmin/2024_mlops_homework/02-exp-tracking/2023/hpo.py:43: FutureWarning: suggest_int() got {'step'} as positional arguments but they were expected to be given as keyword arguments.\n",
      "  'min_samples_leaf': trial.suggest_int('min_samples_leaf', 1, 4, 1),\n",
      "/home/pxmopsadmin/anaconda3/envs/02-exp-2023/lib/python3.12/site-packages/sklearn/metrics/_regression.py:483: FutureWarning: 'squared' is deprecated in version 1.4 and will be removed in 1.6. To calculate the root mean squared error, use the function'root_mean_squared_error'.\n",
      "  warnings.warn(\n",
      "\u001b[32m[I 2024-05-16 16:23:50,176]\u001b[0m Trial 3 finished with value: 2.460983516558473 and parameters: {'n_estimators': 44, 'max_depth': 5, 'min_samples_split': 3, 'min_samples_leaf': 1}. Best is trial 2 with value: 2.449827329704216.\u001b[0m\n",
      "/home/pxmopsadmin/2024_mlops_homework/02-exp-tracking/2023/hpo.py:40: FutureWarning: suggest_int() got {'step'} as positional arguments but they were expected to be given as keyword arguments.\n",
      "  'n_estimators': trial.suggest_int('n_estimators', 10, 50, 1),\n",
      "/home/pxmopsadmin/2024_mlops_homework/02-exp-tracking/2023/hpo.py:41: FutureWarning: suggest_int() got {'step'} as positional arguments but they were expected to be given as keyword arguments.\n",
      "  'max_depth': trial.suggest_int('max_depth', 1, 20, 1),\n",
      "/home/pxmopsadmin/2024_mlops_homework/02-exp-tracking/2023/hpo.py:42: FutureWarning: suggest_int() got {'step'} as positional arguments but they were expected to be given as keyword arguments.\n",
      "  'min_samples_split': trial.suggest_int('min_samples_split', 2, 10, 1),\n",
      "/home/pxmopsadmin/2024_mlops_homework/02-exp-tracking/2023/hpo.py:43: FutureWarning: suggest_int() got {'step'} as positional arguments but they were expected to be given as keyword arguments.\n",
      "  'min_samples_leaf': trial.suggest_int('min_samples_leaf', 1, 4, 1),\n",
      "/home/pxmopsadmin/anaconda3/envs/02-exp-2023/lib/python3.12/site-packages/sklearn/metrics/_regression.py:483: FutureWarning: 'squared' is deprecated in version 1.4 and will be removed in 1.6. To calculate the root mean squared error, use the function'root_mean_squared_error'.\n",
      "  warnings.warn(\n",
      "\u001b[32m[I 2024-05-16 16:23:50,650]\u001b[0m Trial 4 finished with value: 2.453877262701052 and parameters: {'n_estimators': 22, 'max_depth': 11, 'min_samples_split': 5, 'min_samples_leaf': 2}. Best is trial 2 with value: 2.449827329704216.\u001b[0m\n",
      "/home/pxmopsadmin/2024_mlops_homework/02-exp-tracking/2023/hpo.py:40: FutureWarning: suggest_int() got {'step'} as positional arguments but they were expected to be given as keyword arguments.\n",
      "  'n_estimators': trial.suggest_int('n_estimators', 10, 50, 1),\n",
      "/home/pxmopsadmin/2024_mlops_homework/02-exp-tracking/2023/hpo.py:41: FutureWarning: suggest_int() got {'step'} as positional arguments but they were expected to be given as keyword arguments.\n",
      "  'max_depth': trial.suggest_int('max_depth', 1, 20, 1),\n",
      "/home/pxmopsadmin/2024_mlops_homework/02-exp-tracking/2023/hpo.py:42: FutureWarning: suggest_int() got {'step'} as positional arguments but they were expected to be given as keyword arguments.\n",
      "  'min_samples_split': trial.suggest_int('min_samples_split', 2, 10, 1),\n",
      "/home/pxmopsadmin/2024_mlops_homework/02-exp-tracking/2023/hpo.py:43: FutureWarning: suggest_int() got {'step'} as positional arguments but they were expected to be given as keyword arguments.\n",
      "  'min_samples_leaf': trial.suggest_int('min_samples_leaf', 1, 4, 1),\n",
      "/home/pxmopsadmin/anaconda3/envs/02-exp-2023/lib/python3.12/site-packages/sklearn/metrics/_regression.py:483: FutureWarning: 'squared' is deprecated in version 1.4 and will be removed in 1.6. To calculate the root mean squared error, use the function'root_mean_squared_error'.\n",
      "  warnings.warn(\n",
      "\u001b[32m[I 2024-05-16 16:23:50,911]\u001b[0m Trial 5 finished with value: 2.4720122094960733 and parameters: {'n_estimators': 35, 'max_depth': 3, 'min_samples_split': 4, 'min_samples_leaf': 2}. Best is trial 2 with value: 2.449827329704216.\u001b[0m\n",
      "/home/pxmopsadmin/2024_mlops_homework/02-exp-tracking/2023/hpo.py:40: FutureWarning: suggest_int() got {'step'} as positional arguments but they were expected to be given as keyword arguments.\n",
      "  'n_estimators': trial.suggest_int('n_estimators', 10, 50, 1),\n",
      "/home/pxmopsadmin/2024_mlops_homework/02-exp-tracking/2023/hpo.py:41: FutureWarning: suggest_int() got {'step'} as positional arguments but they were expected to be given as keyword arguments.\n",
      "  'max_depth': trial.suggest_int('max_depth', 1, 20, 1),\n",
      "/home/pxmopsadmin/2024_mlops_homework/02-exp-tracking/2023/hpo.py:42: FutureWarning: suggest_int() got {'step'} as positional arguments but they were expected to be given as keyword arguments.\n",
      "  'min_samples_split': trial.suggest_int('min_samples_split', 2, 10, 1),\n",
      "/home/pxmopsadmin/2024_mlops_homework/02-exp-tracking/2023/hpo.py:43: FutureWarning: suggest_int() got {'step'} as positional arguments but they were expected to be given as keyword arguments.\n",
      "  'min_samples_leaf': trial.suggest_int('min_samples_leaf', 1, 4, 1),\n",
      "/home/pxmopsadmin/anaconda3/envs/02-exp-2023/lib/python3.12/site-packages/sklearn/metrics/_regression.py:483: FutureWarning: 'squared' is deprecated in version 1.4 and will be removed in 1.6. To calculate the root mean squared error, use the function'root_mean_squared_error'.\n",
      "  warnings.warn(\n",
      "\u001b[32m[I 2024-05-16 16:23:51,827]\u001b[0m Trial 6 finished with value: 2.4516421799356767 and parameters: {'n_estimators': 28, 'max_depth': 16, 'min_samples_split': 3, 'min_samples_leaf': 3}. Best is trial 2 with value: 2.449827329704216.\u001b[0m\n",
      "/home/pxmopsadmin/2024_mlops_homework/02-exp-tracking/2023/hpo.py:40: FutureWarning: suggest_int() got {'step'} as positional arguments but they were expected to be given as keyword arguments.\n",
      "  'n_estimators': trial.suggest_int('n_estimators', 10, 50, 1),\n",
      "/home/pxmopsadmin/2024_mlops_homework/02-exp-tracking/2023/hpo.py:41: FutureWarning: suggest_int() got {'step'} as positional arguments but they were expected to be given as keyword arguments.\n",
      "  'max_depth': trial.suggest_int('max_depth', 1, 20, 1),\n",
      "/home/pxmopsadmin/2024_mlops_homework/02-exp-tracking/2023/hpo.py:42: FutureWarning: suggest_int() got {'step'} as positional arguments but they were expected to be given as keyword arguments.\n",
      "  'min_samples_split': trial.suggest_int('min_samples_split', 2, 10, 1),\n",
      "/home/pxmopsadmin/2024_mlops_homework/02-exp-tracking/2023/hpo.py:43: FutureWarning: suggest_int() got {'step'} as positional arguments but they were expected to be given as keyword arguments.\n",
      "  'min_samples_leaf': trial.suggest_int('min_samples_leaf', 1, 4, 1),\n",
      "/home/pxmopsadmin/anaconda3/envs/02-exp-2023/lib/python3.12/site-packages/sklearn/metrics/_regression.py:483: FutureWarning: 'squared' is deprecated in version 1.4 and will be removed in 1.6. To calculate the root mean squared error, use the function'root_mean_squared_error'.\n",
      "  warnings.warn(\n",
      "\u001b[32m[I 2024-05-16 16:23:52,035]\u001b[0m Trial 7 finished with value: 2.5374040268274087 and parameters: {'n_estimators': 34, 'max_depth': 1, 'min_samples_split': 7, 'min_samples_leaf': 1}. Best is trial 2 with value: 2.449827329704216.\u001b[0m\n",
      "/home/pxmopsadmin/2024_mlops_homework/02-exp-tracking/2023/hpo.py:40: FutureWarning: suggest_int() got {'step'} as positional arguments but they were expected to be given as keyword arguments.\n",
      "  'n_estimators': trial.suggest_int('n_estimators', 10, 50, 1),\n",
      "/home/pxmopsadmin/2024_mlops_homework/02-exp-tracking/2023/hpo.py:41: FutureWarning: suggest_int() got {'step'} as positional arguments but they were expected to be given as keyword arguments.\n",
      "  'max_depth': trial.suggest_int('max_depth', 1, 20, 1),\n",
      "/home/pxmopsadmin/2024_mlops_homework/02-exp-tracking/2023/hpo.py:42: FutureWarning: suggest_int() got {'step'} as positional arguments but they were expected to be given as keyword arguments.\n",
      "  'min_samples_split': trial.suggest_int('min_samples_split', 2, 10, 1),\n",
      "/home/pxmopsadmin/2024_mlops_homework/02-exp-tracking/2023/hpo.py:43: FutureWarning: suggest_int() got {'step'} as positional arguments but they were expected to be given as keyword arguments.\n",
      "  'min_samples_leaf': trial.suggest_int('min_samples_leaf', 1, 4, 1),\n",
      "/home/pxmopsadmin/anaconda3/envs/02-exp-2023/lib/python3.12/site-packages/sklearn/metrics/_regression.py:483: FutureWarning: 'squared' is deprecated in version 1.4 and will be removed in 1.6. To calculate the root mean squared error, use the function'root_mean_squared_error'.\n",
      "  warnings.warn(\n",
      "\u001b[32m[I 2024-05-16 16:23:52,620]\u001b[0m Trial 8 finished with value: 2.455971238567075 and parameters: {'n_estimators': 12, 'max_depth': 19, 'min_samples_split': 10, 'min_samples_leaf': 4}. Best is trial 2 with value: 2.449827329704216.\u001b[0m\n",
      "/home/pxmopsadmin/2024_mlops_homework/02-exp-tracking/2023/hpo.py:40: FutureWarning: suggest_int() got {'step'} as positional arguments but they were expected to be given as keyword arguments.\n",
      "  'n_estimators': trial.suggest_int('n_estimators', 10, 50, 1),\n",
      "/home/pxmopsadmin/2024_mlops_homework/02-exp-tracking/2023/hpo.py:41: FutureWarning: suggest_int() got {'step'} as positional arguments but they were expected to be given as keyword arguments.\n",
      "  'max_depth': trial.suggest_int('max_depth', 1, 20, 1),\n",
      "/home/pxmopsadmin/2024_mlops_homework/02-exp-tracking/2023/hpo.py:42: FutureWarning: suggest_int() got {'step'} as positional arguments but they were expected to be given as keyword arguments.\n",
      "  'min_samples_split': trial.suggest_int('min_samples_split', 2, 10, 1),\n",
      "/home/pxmopsadmin/2024_mlops_homework/02-exp-tracking/2023/hpo.py:43: FutureWarning: suggest_int() got {'step'} as positional arguments but they were expected to be given as keyword arguments.\n",
      "  'min_samples_leaf': trial.suggest_int('min_samples_leaf', 1, 4, 1),\n",
      "/home/pxmopsadmin/anaconda3/envs/02-exp-2023/lib/python3.12/site-packages/sklearn/metrics/_regression.py:483: FutureWarning: 'squared' is deprecated in version 1.4 and will be removed in 1.6. To calculate the root mean squared error, use the function'root_mean_squared_error'.\n",
      "  warnings.warn(\n",
      "\u001b[32m[I 2024-05-16 16:23:52,867]\u001b[0m Trial 9 finished with value: 2.486106021576535 and parameters: {'n_estimators': 22, 'max_depth': 2, 'min_samples_split': 8, 'min_samples_leaf': 2}. Best is trial 2 with value: 2.449827329704216.\u001b[0m\n",
      "The lowest RMSE is: 2.449827329704216.\n"
     ]
    }
   ],
   "source": [
    "# 1. Add `with mlflow.start_run():`\n",
    "# 2. Add `mlflow.log_params(params)`\n",
    "# 3. Add `mlflow.log_metric(\"rmse\", rmse)`\n",
    "!python hpo.py\n",
    "\n",
    "# Retrieve lowest rmse using API / alternatively could also use UI\n",
    "import mlflow\n",
    "mlflow.set_tracking_uri(\"sqlite:///mlflow.db\")\n",
    "experiment = mlflow.get_experiment_by_name(\"random-forest-hyperopt\")\n",
    "runs = mlflow.search_runs(experiment_ids=[experiment.experiment_id])\n",
    "print(f\"The lowest RMSE is: {runs[\"metrics.rmse\"].min()}.\")\n"
   ]
  },
  {
   "cell_type": "markdown",
   "metadata": {},
   "source": [
    "#### Q5. Promote the best model to the model registry\n",
    "\n",
    "The results from the hyperparameter optimization are quite good. So, we can assume that we are ready to test some of these models in production. \n",
    "In this exercise, you'll promote the best model to the model registry. We have prepared a script called `register_model.py`, which will check the results from the previous step and select the top 5 runs. \n",
    "After that, it will calculate the RMSE of those models on the test set (March 2022 data) and save the results to a new experiment called `random-forest-best-models`.\n",
    "\n",
    "Your task is to update the script `register_model.py` so that it selects the model with the lowest RMSE on the test set and registers it to the model registry.\n",
    "\n",
    "Tips for MLflow:\n",
    "\n",
    "* you can use the method `search_runs` from the `MlflowClient` to get the model with the lowest RMSE,\n",
    "* to register the model you can use the method `mlflow.register_model` and you will need to pass the right `model_uri` in the form of a string that looks like this: `\"runs:/<RUN_ID>/model\"`, and the name of the model (make sure to choose a good one!).\n",
    "\n",
    "What is the test RMSE of the best model?\n",
    "\n",
    "* 1.885\n",
    "* 2.185\n",
    "* 2.555\n",
    "* 2.955"
   ]
  },
  {
   "cell_type": "code",
   "execution_count": 49,
   "metadata": {},
   "outputs": [
    {
     "name": "stdout",
     "output_type": "stream",
     "text": [
      "2024/05/16 16:57:27 WARNING mlflow.sklearn: Failed to log training dataset information to MLflow Tracking. Reason: 'numpy.ndarray' object has no attribute 'toarray'\n",
      "/home/pxmopsadmin/anaconda3/envs/02-exp-2023/lib/python3.12/site-packages/sklearn/metrics/_regression.py:483: FutureWarning: 'squared' is deprecated in version 1.4 and will be removed in 1.6. To calculate the root mean squared error, use the function'root_mean_squared_error'.\n",
      "  warnings.warn(\n",
      "/home/pxmopsadmin/anaconda3/envs/02-exp-2023/lib/python3.12/site-packages/sklearn/metrics/_regression.py:483: FutureWarning: 'squared' is deprecated in version 1.4 and will be removed in 1.6. To calculate the root mean squared error, use the function'root_mean_squared_error'.\n",
      "  warnings.warn(\n",
      "2024/05/16 16:57:37 WARNING mlflow.sklearn: Failed to log training dataset information to MLflow Tracking. Reason: 'numpy.ndarray' object has no attribute 'toarray'\n",
      "/home/pxmopsadmin/anaconda3/envs/02-exp-2023/lib/python3.12/site-packages/sklearn/metrics/_regression.py:483: FutureWarning: 'squared' is deprecated in version 1.4 and will be removed in 1.6. To calculate the root mean squared error, use the function'root_mean_squared_error'.\n",
      "  warnings.warn(\n",
      "/home/pxmopsadmin/anaconda3/envs/02-exp-2023/lib/python3.12/site-packages/sklearn/metrics/_regression.py:483: FutureWarning: 'squared' is deprecated in version 1.4 and will be removed in 1.6. To calculate the root mean squared error, use the function'root_mean_squared_error'.\n",
      "  warnings.warn(\n",
      "2024/05/16 16:57:46 WARNING mlflow.sklearn: Failed to log training dataset information to MLflow Tracking. Reason: 'numpy.ndarray' object has no attribute 'toarray'\n",
      "/home/pxmopsadmin/anaconda3/envs/02-exp-2023/lib/python3.12/site-packages/sklearn/metrics/_regression.py:483: FutureWarning: 'squared' is deprecated in version 1.4 and will be removed in 1.6. To calculate the root mean squared error, use the function'root_mean_squared_error'.\n",
      "  warnings.warn(\n",
      "/home/pxmopsadmin/anaconda3/envs/02-exp-2023/lib/python3.12/site-packages/sklearn/metrics/_regression.py:483: FutureWarning: 'squared' is deprecated in version 1.4 and will be removed in 1.6. To calculate the root mean squared error, use the function'root_mean_squared_error'.\n",
      "  warnings.warn(\n",
      "2024/05/16 16:57:55 WARNING mlflow.sklearn: Failed to log training dataset information to MLflow Tracking. Reason: 'numpy.ndarray' object has no attribute 'toarray'\n",
      "/home/pxmopsadmin/anaconda3/envs/02-exp-2023/lib/python3.12/site-packages/sklearn/metrics/_regression.py:483: FutureWarning: 'squared' is deprecated in version 1.4 and will be removed in 1.6. To calculate the root mean squared error, use the function'root_mean_squared_error'.\n",
      "  warnings.warn(\n",
      "/home/pxmopsadmin/anaconda3/envs/02-exp-2023/lib/python3.12/site-packages/sklearn/metrics/_regression.py:483: FutureWarning: 'squared' is deprecated in version 1.4 and will be removed in 1.6. To calculate the root mean squared error, use the function'root_mean_squared_error'.\n",
      "  warnings.warn(\n",
      "2024/05/16 16:58:04 WARNING mlflow.sklearn: Failed to log training dataset information to MLflow Tracking. Reason: 'numpy.ndarray' object has no attribute 'toarray'\n",
      "/home/pxmopsadmin/anaconda3/envs/02-exp-2023/lib/python3.12/site-packages/sklearn/metrics/_regression.py:483: FutureWarning: 'squared' is deprecated in version 1.4 and will be removed in 1.6. To calculate the root mean squared error, use the function'root_mean_squared_error'.\n",
      "  warnings.warn(\n",
      "/home/pxmopsadmin/anaconda3/envs/02-exp-2023/lib/python3.12/site-packages/sklearn/metrics/_regression.py:483: FutureWarning: 'squared' is deprecated in version 1.4 and will be removed in 1.6. To calculate the root mean squared error, use the function'root_mean_squared_error'.\n",
      "  warnings.warn(\n",
      "Successfully registered model 'BestRandomForestRegressor'.\n",
      "Created version '1' of model 'BestRandomForestRegressor'.\n",
      "Registered best model (run_id: 7f06cc7b6ee345449d1266c22688b88a) with a test RMSE of 2.2854691906481364.\n"
     ]
    }
   ],
   "source": [
    "!python register_model.py"
   ]
  },
  {
   "cell_type": "markdown",
   "metadata": {},
   "source": [
    "#### Q6. Model metadata\n",
    "\n",
    "Now explore your best model in the model registry using UI. What information does the model registry contain about each model?\n",
    "\n",
    "* Version number\n",
    "* Source experiment\n",
    "* Model signature\n",
    "* All the above answers are correct"
   ]
  },
  {
   "cell_type": "markdown",
   "metadata": {},
   "source": [
    "#### -> Just the version number"
   ]
  }
 ],
 "metadata": {
  "interpreter": {
   "hash": "747489886f25ed53eafe3a5ea5af097ad1442e62548951c9387ed57297d6d855"
  },
  "kernelspec": {
   "display_name": "Python 3.11.7 ('base': conda)",
   "language": "python",
   "name": "python3"
  },
  "language_info": {
   "codemirror_mode": {
    "name": "ipython",
    "version": 3
   },
   "file_extension": ".py",
   "mimetype": "text/x-python",
   "name": "python",
   "nbconvert_exporter": "python",
   "pygments_lexer": "ipython3",
   "version": "3.12.3"
  },
  "orig_nbformat": 4
 },
 "nbformat": 4,
 "nbformat_minor": 2
}
