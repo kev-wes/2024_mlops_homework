{
 "cells": [
  {
   "cell_type": "markdown",
   "metadata": {},
   "source": [
    "## Homework\n",
    "\n",
    "In this homework, we'll deploy the ride duration model in batch mode. Like in homework 1, we'll use the Yellow Taxi Trip Records dataset. \n",
    "\n",
    "You'll find the starter code in the [homework](homework) directory.\n",
    "\n",
    "\n",
    "## Q1. Notebook\n",
    "\n",
    "We'll start with the same notebook we ended up with in homework 1.\n",
    "We cleaned it a little bit and kept only the scoring part. You can find the initial notebook [here](homework/starter.ipynb).\n",
    "\n",
    "Run this notebook for the March 2023 data.\n",
    "\n",
    "What's the standard deviation of the predicted duration for this dataset?\n",
    "\n",
    "* 1.24\n",
    "* 6.24\n",
    "* 12.28\n",
    "* 18.28"
   ]
  },
  {
   "cell_type": "code",
   "execution_count": 2,
   "metadata": {},
   "outputs": [],
   "source": [
    "# 1. conda create -n \"04-dep-2024\" python=3.10.13 ipython\n",
    "# 2. conda activate 04-dep-2024 \n",
    "# 3. pip install scikit-learn==1.5.0\n",
    "# 4. pip install pandas\n",
    "# 5. pip install pyarrow\n",
    "# 6. Load March 2023 data 'df = read_data('https://d37ci6vzurychx.cloudfront.net/trip-data/yellow_tripdata_2023-03.parquet')'\n",
    "# 7. y_pred.std()\n",
    "\n",
    "# -> 6.247488852238703"
   ]
  },
  {
   "cell_type": "markdown",
   "metadata": {},
   "source": [
    "## Q2. Preparing the output\n",
    "\n",
    "Like in the course videos, we want to prepare the dataframe with the output. \n",
    "\n",
    "First, let's create an artificial `ride_id` column:\n",
    "\n",
    "```python\n",
    "df['ride_id'] = f'{year:04d}/{month:02d}_' + df.index.astype('str')\n",
    "```\n",
    "\n",
    "Next, write the ride id and the predictions to a dataframe with results. \n",
    "\n",
    "Save it as parquet:\n",
    "\n",
    "```python\n",
    "df_result.to_parquet(\n",
    "    output_file,\n",
    "    engine='pyarrow',\n",
    "    compression=None,\n",
    "    index=False\n",
    ")\n",
    "```\n",
    "\n",
    "What's the size of the output file?\n",
    "\n",
    "* 36M\n",
    "* 46M\n",
    "* 56M\n",
    "* 66M\n",
    "\n",
    "\n",
    "__Note:__ Make sure you use the snippet above for saving the file. It should contain only these two columns. For this question, don't change the\n",
    "dtypes of the columns and use `pyarrow`, not `fastparquet`. "
   ]
  },
  {
   "cell_type": "code",
   "execution_count": null,
   "metadata": {},
   "outputs": [],
   "source": [
    "# 1. Create output folder\n",
    "# 2. CODE:\n",
    "# year = 2023\n",
    "# month = 3\n",
    "# df['ride_id'] = f'{year:04d}/{month:02d}_' + df.index.astype('str')\n",
    "# df_result = pd.DataFrame({'ride_id': df['ride_id'], 'predictions': y_pred})\n",
    "\n",
    "# df_result.to_parquet(\n",
    "#     'output/predictions_2022-02.parquet',\n",
    "#     engine='pyarrow',\n",
    "#     compression=None,\n",
    "#     index=False\n",
    "# )\n",
    "\n",
    "# !du -h ./output/predictions_2022-02.parquet\n",
    "\n",
    "# -> 66M"
   ]
  },
  {
   "cell_type": "markdown",
   "metadata": {},
   "source": [
    "## Q3. Creating the scoring script\n",
    "\n",
    "Now let's turn the notebook into a script. \n",
    "\n",
    "Which command you need to execute for that?"
   ]
  },
  {
   "cell_type": "code",
   "execution_count": null,
   "metadata": {},
   "outputs": [],
   "source": [
    "# 1. pip install nbconvert\n",
    "# 2. cd 2024_mlops_homework/04-deployment/2024/homework\n",
    "# 3. jupyter nbconvert --to script starter.ipynb"
   ]
  },
  {
   "cell_type": "markdown",
   "metadata": {},
   "source": [
    "## Q4. Virtual environment\n",
    "\n",
    "Now let's put everything into a virtual environment. We'll use pipenv for that.\n",
    "\n",
    "Install all the required libraries. Pay attention to the Scikit-Learn version: it should be the same as in the starter\n",
    "notebook.\n",
    "\n",
    "After installing the libraries, pipenv creates two files: `Pipfile`\n",
    "and `Pipfile.lock`. The `Pipfile.lock` file keeps the hashes of the\n",
    "dependencies we use for the virtual env.\n",
    "\n",
    "What's the first hash for the Scikit-Learn dependency?"
   ]
  },
  {
   "cell_type": "code",
   "execution_count": 3,
   "metadata": {},
   "outputs": [],
   "source": [
    "# 1. Oops, created in Q1\n",
    "# 2. Leave conda env\n",
    "# 3. pipenv install scikit-learn==1.5.0 pandas pyarrow\n",
    "# -> sha256:057b991ac64b3e75c9c04b5f9395eaf19a6179244c089afdebaad98264bff37c\n",
    "# 4. pipenv shell"
   ]
  },
  {
   "cell_type": "markdown",
   "metadata": {},
   "source": [
    "## Q5. Parametrize the script\n",
    "\n",
    "Let's now make the script configurable via CLI. We'll create two \n",
    "parameters: year and month.\n",
    "\n",
    "Run the script for April 2023. \n",
    "\n",
    "What's the mean predicted duration? \n",
    "\n",
    "* 7.29\n",
    "* 14.29\n",
    "* 21.29\n",
    "* 28.29\n",
    "\n",
    "Hint: just add a print statement to your script."
   ]
  },
  {
   "cell_type": "code",
   "execution_count": null,
   "metadata": {},
   "outputs": [],
   "source": [
    "# 1. Add 'import sys'\n",
    "# 2. Create def run()\n",
    "# 3. Add:\n",
    "        # year = int(sys.argv[1])\n",
    "        # month = int(sys.argv[2])\n",
    "        # input_file = f'https://d37ci6vzurychx.cloudfront.net/trip-data/yellow_tripdata_{year:04d}-{month:02d}.parquet'\n",
    "        # output_file = f'output/predictions_{year:04d}-{month:02d}.parquet'\n",
    "\n",
    "        # df = read_data(input_file)\n",
    "        # print(f'The mean predicted duration is {y_pred.mean()}.')\n",
    "# 4. Add:\n",
    "# if __name__ == '__main__':\n",
    "#      run()\n",
    "# 4. Run python starter.py 2023 4\n",
    "\n",
    "# -> The mean predicted duration is 14.292282936862449."
   ]
  },
  {
   "cell_type": "markdown",
   "metadata": {},
   "source": [
    "## Q6. Docker container \n",
    "\n",
    "Finally, we'll package the script in the docker container. \n",
    "For that, you'll need to use a base image that we prepared. \n",
    "\n",
    "This is what the content of this image is:\n",
    "```\n",
    "FROM python:3.10.13-slim\n",
    "\n",
    "WORKDIR /app\n",
    "COPY [ \"model2.bin\", \"model.bin\" ]\n",
    "```\n",
    "\n",
    "Note: you don't need to run it. We have already done it.\n",
    "\n",
    "It is pushed it to [`agrigorev/zoomcamp-model:mlops-2024-3.10.13-slim`](https://hub.docker.com/layers/agrigorev/zoomcamp-model/mlops-2024-3.10.13-slim/images/sha256-f54535b73a8c3ef91967d5588de57d4e251b22addcbbfb6e71304a91c1c7027f?context=repo),\n",
    "which you need to use as your base image.\n",
    "\n",
    "That is, your Dockerfile should start with:\n",
    "\n",
    "```docker\n",
    "FROM agrigorev/zoomcamp-model:mlops-2024-3.10.13-slim\n",
    "\n",
    "# do stuff here\n",
    "```\n",
    "\n",
    "This image already has a pickle file with a dictionary vectorizer\n",
    "and a model. You will need to use them.\n",
    "\n",
    "Important: don't copy the model to the docker image. You will need\n",
    "to use the pickle file already in the image. \n",
    "\n",
    "Now run the script with docker. What's the mean predicted duration\n",
    "for May 2023? \n",
    "\n",
    "* 0.19\n",
    "* 7.24\n",
    "* 14.24\n",
    "* 21.19"
   ]
  },
  {
   "cell_type": "code",
   "execution_count": null,
   "metadata": {},
   "outputs": [],
   "source": [
    "# 1. Create Dockerfile:\n",
    "# # Dockerfile\n",
    "# FROM agrigorev/zoomcamp-model:mlops-2024-3.10.13-slim\n",
    "\n",
    "# RUN pip install -U pip\n",
    "# RUN pip install pipenv\n",
    "\n",
    "# WORKDIR /app\n",
    "# COPY [\"Pipfile\", \"Pipfile.lock\", \"starter.py\", \"./\"]\n",
    "\n",
    "# RUN pipenv install --system --deploy\n",
    "\n",
    "# RUN mkdir -p /app/output\n",
    "# #COPY [\"model.bin\", \"./\"]\n",
    "\n",
    "# # Set the entrypoint to run the prediction script\n",
    "# ENTRYPOINT [\"python\", \"starter.py\"]\n",
    "\n",
    "# 2. docker build -t ride-duration-predictor .\n",
    "\n",
    "# 3. docker run --rm ride-duration-predictor 2023 3"
   ]
  }
 ],
 "metadata": {
  "interpreter": {
   "hash": "747489886f25ed53eafe3a5ea5af097ad1442e62548951c9387ed57297d6d855"
  },
  "kernelspec": {
   "display_name": "Python 3.11.7 ('base': conda)",
   "language": "python",
   "name": "python3"
  },
  "language_info": {
   "codemirror_mode": {
    "name": "ipython",
    "version": 3
   },
   "file_extension": ".py",
   "mimetype": "text/x-python",
   "name": "python",
   "nbconvert_exporter": "python",
   "pygments_lexer": "ipython3",
   "version": "3.11.7"
  },
  "orig_nbformat": 4
 },
 "nbformat": 4,
 "nbformat_minor": 2
}
